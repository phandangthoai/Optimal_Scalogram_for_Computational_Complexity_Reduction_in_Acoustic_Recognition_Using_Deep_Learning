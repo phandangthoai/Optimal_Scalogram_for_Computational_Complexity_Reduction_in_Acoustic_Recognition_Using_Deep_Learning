{
  "nbformat": 4,
  "nbformat_minor": 0,
  "metadata": {
    "colab": {
      "provenance": [],
      "mount_file_id": "1JFPBLo6iuSkDtxq1YFly0zqqL0DRZCZ7",
      "authorship_tag": "ABX9TyNAB+VDOP4Os9Za0jPGvecv",
      "include_colab_link": true
    },
    "kernelspec": {
      "name": "python3",
      "display_name": "Python 3"
    },
    "language_info": {
      "name": "python"
    }
  },
  "cells": [
    {
      "cell_type": "markdown",
      "metadata": {
        "id": "view-in-github",
        "colab_type": "text"
      },
      "source": [
        "<a href=\"https://colab.research.google.com/github/phandangthoai/Optimal_Scalogram_for_Computational_Complexity_Reduction_in_Acoustic_Recognition_Using_Deep_Learning/blob/main/Optimal_Scalogram_for_Computational_Complexity_Reduction_in_Acoustic_Recognition_Using_Deep_Learning.ipynb\" target=\"_parent\"><img src=\"https://colab.research.google.com/assets/colab-badge.svg\" alt=\"Open In Colab\"/></a>"
      ]
    },
    {
      "cell_type": "code",
      "execution_count": null,
      "metadata": {
        "colab": {
          "base_uri": "https://localhost:8080/"
        },
        "id": "eZCK3YP3sfk1",
        "outputId": "63f1eb9a-e180-41b0-fd44-3e7419529215"
      },
      "outputs": [
        {
          "output_type": "stream",
          "name": "stdout",
          "text": [
            "Collecting wget\n",
            "  Downloading wget-3.2.zip (10 kB)\n",
            "  Preparing metadata (setup.py) ... \u001b[?25l\u001b[?25hdone\n",
            "Building wheels for collected packages: wget\n",
            "  Building wheel for wget (setup.py) ... \u001b[?25l\u001b[?25hdone\n",
            "  Created wheel for wget: filename=wget-3.2-py3-none-any.whl size=9655 sha256=aeb7edfdef1aa69f2e12da8fbd049ecd2207a757cc0e7de843653e9022495dc3\n",
            "  Stored in directory: /root/.cache/pip/wheels/40/b3/0f/a40dbd1c6861731779f62cc4babcb234387e11d697df70ee97\n",
            "Successfully built wget\n",
            "Installing collected packages: wget\n",
            "Successfully installed wget-3.2\n"
          ]
        }
      ],
      "source": [
        "# Install the library for downloading files from internet\n",
        "!pip install wget"
      ]
    },
    {
      "cell_type": "code",
      "source": [
        "# Download audio dataset\n",
        "import wget\n",
        "url = \"https://zenodo.org/records/3384388/files/-6_dB_slider.zip?download=1\"\n",
        "wget.download(url, '/content/m6dB_slider.zip')"
      ],
      "metadata": {
        "id": "-4Qe3CBtsw2Q"
      },
      "execution_count": null,
      "outputs": []
    },
    {
      "cell_type": "code",
      "source": [
        "# Extract audios from zip file\n",
        "\n",
        "# importing required modules\n",
        "from zipfile import ZipFile\n",
        "\n",
        "# specifying the zip file name\n",
        "file_name = \"/content/m6dB_slider.zip\"\n",
        "\n",
        "# opening the zip file in READ mode\n",
        "with ZipFile(file_name, 'r') as zip:\n",
        "    # printing all the contents of the zip file\n",
        "    zip.printdir()\n",
        "    # extracting all the files\n",
        "    print('Extracting all the files now...')\n",
        "    zip.extractall()\n",
        "    print('Done!')"
      ],
      "metadata": {
        "id": "j7ObWdnys9Ki"
      },
      "execution_count": null,
      "outputs": []
    },
    {
      "cell_type": "code",
      "source": [
        "import shutil"
      ],
      "metadata": {
        "id": "o6WqZGAztF7k"
      },
      "execution_count": null,
      "outputs": []
    },
    {
      "cell_type": "code",
      "source": [
        "# If data is already in drive, copy it to this Colab session\n",
        "src_path = '/content/drive/MyDrive/MIMII_data/m6dB/slider/id_00'\n",
        "dst_path = '/content/m6dB/slider/id_00'\n",
        "shutil.copytree(src_path, dst_path)\n",
        "print('Copied')\n"
      ],
      "metadata": {
        "colab": {
          "base_uri": "https://localhost:8080/"
        },
        "id": "LB0IeyYItTgc",
        "outputId": "46194e51-9216-4285-fae7-600d50491621"
      },
      "execution_count": null,
      "outputs": [
        {
          "output_type": "stream",
          "name": "stdout",
          "text": [
            "Copied\n"
          ]
        }
      ]
    },
    {
      "cell_type": "code",
      "source": [
        "import matplotlib.pyplot as plt\n",
        "from scipy.signal import fftconvolve\n",
        "import os\n",
        "import librosa\n",
        "import librosa.display\n",
        "import IPython.display as ipd\n",
        "import IPython\n",
        "import numpy as np\n",
        "import random\n",
        "import pathlib\n",
        "import gc  # Import garbage collection module\n",
        "import pywt"
      ],
      "metadata": {
        "id": "JpJmAUXAtv2s"
      },
      "execution_count": null,
      "outputs": []
    },
    {
      "cell_type": "code",
      "source": [
        "dir_path = '/content/m6dB/slider/id_00'\n",
        "cmap = plt.cm.seismic\n",
        "contourlevels = np.arange(-6, 7)\n",
        "signal_length = 160000 # Length of audio data (10s, sampled at 16kHz)\n",
        "# Hop_size defines how large a step in extracting scalogram\n",
        "# The large hop_size, the more computational complexity reduction, the lower tranform resolution\n",
        "# Hop_size = 1, the transform equals to function pywt.cwt()\n",
        "HOP_SIZE = 1\n",
        "output_length = int(signal_length/HOP_SIZE)\n",
        "# wavelet_length defines how long the wavelet kernel is\n",
        "# longer wavelet results more resolution in transform, higher computational complexity\n",
        "WAVELET_LENGTH = 64 # wavelet_length = 64 means 64 samples in the wavelet\n",
        "\n",
        "# Define the Morlet wavelet's first derivative (approximated using Gaussian derivative)\n",
        "def morlet_wavelet(t, sigma=1.0):\n",
        "    \"\"\"First derivative of the Morlet wavelet (approximated by Gaussian derivative).\"\"\"\n",
        "    return -t * np.exp(-t**2 / (2 * sigma**2))  # First derivative of Gaussian\n",
        "wavelet_time = np.linspace(-10, 10, WAVELET_LENGTH)  # Define wavelet range\n",
        "# with sigma=1.0, the precision is about 3 or 5 considered as good precision\n",
        "# choose precision = 10 for a better signal coverage\n",
        "# this precision parameter does not impact the computational complexity\n",
        "# Define scales for CWT\n",
        "scales = np.arange(1, 129)\n",
        "scales_log2 = np.log2(scales)\n",
        "\n",
        "# Select specific time points for sparse computation\n",
        "selected_times = np.linspace(0, signal_length - 2, output_length, dtype=int)  # Adjusted for np.diff size reduction\n",
        "\n",
        "# Compute sparse CWT using Convolution + Differentiation\n",
        "coeff_sparse = np.zeros((len(scales), len(selected_times)))  # Output matrix\n",
        "\n",
        "types = 'normal abnormal'.split()\n",
        "for g in types:\n",
        "  pathlib.Path(f'{dir_path}/Sc_m6dBSlider00/{g}').mkdir(parents=True, exist_ok=True)\n",
        "  for filename in os.listdir(f'{dir_path}/{g}'):\n",
        "    sound = f'{dir_path}/{g}/{filename}'\n",
        "    y, sr = librosa.load(sound, sr=None, mono=True, duration=10)\n",
        "    y = y/max(abs(y)) #standardize sound\n",
        "    # Reset coefficient matrix instead of reallocating\n",
        "    coeff_sparse.fill(0)\n",
        "    for i, scale in enumerate(scales):\n",
        "        # Generate scaled wavelet\n",
        "        wavelet_scaled = morlet_wavelet(wavelet_time / scale)\n",
        "        wavelet_scaled /= np.sqrt(scale)  # Normalize\n",
        "        # Perform convolution using FFT\n",
        "        conv_result = fftconvolve(y, wavelet_scaled, mode='same')\n",
        "        # Apply differentiation step\n",
        "        conv_result_diff = -np.sqrt(scale) * np.diff(conv_result)\n",
        "        # Store only selected time points\n",
        "        coeff_sparse[i, :] = conv_result_diff[selected_times]\n",
        "        del wavelet_scaled, conv_result, conv_result_diff\n",
        "    power = 100*((coeff_sparse) ** 2)\n",
        "    fig, ax = plt.subplots(figsize=(5.12, 5.12))\n",
        "    im = ax.contourf(selected_times, scales_log2, np.log2(power), contourlevels, extend='both',cmap=cmap)\n",
        "    plt.axis('off')\n",
        "    break # use this break to generate one file only\n",
        "    plt.savefig(f'{dir_path}/Sc_m6dBSlider00/{g}/{filename[:-3].replace(\".\", \"\")}.png', bbox_inches='tight')\n",
        "    plt.clf()\n",
        "    plt.close(fig)\n",
        "    del fig, ax, im, power, y, sound, sr  # Explicitly delete large objects\n",
        "    gc.collect()  # Force garbage collection\n",
        "  break # use this break to generate one file only"
      ],
      "metadata": {
        "colab": {
          "base_uri": "https://localhost:8080/",
          "height": 431
        },
        "id": "hMdY2dsxt6u1",
        "outputId": "3ec80691-a5dd-462f-8fbf-2409234c41ce"
      },
      "execution_count": null,
      "outputs": [
        {
          "output_type": "display_data",
          "data": {
            "text/plain": [
              "<Figure size 512x512 with 1 Axes>"
            ],
            "image/png": "[encoded data removed]"
          },
          "metadata": {}
        }
      ]
    },
    {
      "cell_type": "code",
      "source": [
        "# copy the generated scalogram from drive if you have done so\n",
        "src_path = '/content/drive/MyDrive/MIMII_data/m6dB/slider/id_00/Sc_m6dBSlider_00'\n",
        "dst_path = '/content/m6dB/slider/id_00/Sc_m6dBSlider_00'\n",
        "shutil.copytree(src_path, dst_path)\n",
        "print('Copied')"
      ],
      "metadata": {
        "id": "Ta8Y58hm2AGP"
      },
      "execution_count": null,
      "outputs": []
    },
    {
      "cell_type": "code",
      "source": [
        "import tensorflow as tf\n",
        "import keras"
      ],
      "metadata": {
        "id": "iXkGBpiW2yDi"
      },
      "execution_count": null,
      "outputs": []
    },
    {
      "cell_type": "code",
      "source": [
        "# Training and validation for acoustic recognition task\n",
        "batch_size = 64\n",
        "img_height = 512\n",
        "img_width = 512\n",
        "data_dir = '/content/m6dB/slider/id_00/Sc_m6dBSlider_00'\n",
        "\n",
        "train_ds = tf.keras.utils.image_dataset_from_directory(\n",
        "    data_dir,\n",
        "    labels = \"inferred\",\n",
        "    label_mode = 'categorical',\n",
        "    class_names = ('normal', 'abnormal'),\n",
        "    color_mode = \"rgb\",\n",
        "    validation_split=0.2,\n",
        "    subset=\"training\",\n",
        "    seed=123,\n",
        "    image_size=(img_height, img_width),\n",
        "    batch_size=batch_size)\n",
        "\n",
        "val_ds = tf.keras.utils.image_dataset_from_directory(\n",
        "    data_dir,\n",
        "    labels = \"inferred\",\n",
        "    label_mode = 'categorical',\n",
        "    class_names = ('normal', 'abnormal'),\n",
        "    color_mode = \"rgb\",\n",
        "    validation_split=0.2,\n",
        "    subset=\"validation\",\n",
        "    seed=123,\n",
        "    image_size=(img_height, img_width),\n",
        "    batch_size=batch_size)\n",
        "\n",
        "num_classes = 2\n",
        "\n",
        "metrics = [\n",
        "           'accuracy',\n",
        "           tf.keras.metrics.AUC(\n",
        "              num_thresholds=200, curve='ROC',\n",
        "              summation_method='interpolation', name='AUC_ROC', dtype=None,\n",
        "              thresholds=None, multi_label=False,\n",
        "              num_labels=None,\n",
        "              label_weights=None,\n",
        "              from_logits=False),\n",
        "           tf.keras.metrics.Precision(\n",
        "              thresholds=None, top_k=None,\n",
        "              class_id=None, name=None, dtype=None),\n",
        "           tf.keras.metrics.Recall(\n",
        "              thresholds=None, top_k=None, class_id=None,\n",
        "              name=None, dtype=None)\n",
        "]\n",
        "\n",
        "model = tf.keras.Sequential([\n",
        "      tf.keras.layers.Rescaling(1./255),\n",
        "      tf.keras.layers.Conv2D(16, 3, activation='relu', use_bias=True, bias_initializer='zeros'),\n",
        "      tf.keras.layers.MaxPooling2D(),\n",
        "      tf.keras.layers.Conv2D(32, 3, activation='relu', use_bias=True, bias_initializer='zeros'),\n",
        "      tf.keras.layers.MaxPooling2D(),\n",
        "      tf.keras.layers.Conv2D(64, 3, activation='relu', use_bias=True, bias_initializer='zeros'),\n",
        "      tf.keras.layers.MaxPooling2D(),\n",
        "      tf.keras.layers.Flatten(),\n",
        "      tf.keras.layers.Dense(128, activation='relu'),\n",
        "      tf.keras.layers.Dropout(0.25),\n",
        "      tf.keras.layers.Dense(256, activation='relu'),\n",
        "      tf.keras.layers.Dropout(0.25),\n",
        "      tf.keras.layers.Dense(units=num_classes, activation='softmax')\n",
        "    ])\n",
        "opt = tf.keras.optimizers.Adam(learning_rate=0.001,name='Adam')\n",
        "model.compile(\n",
        "  optimizer=opt,\n",
        "  loss=tf.keras.losses.CategoricalCrossentropy(),\n",
        "  metrics=metrics)\n",
        "\n",
        "checkpoint_filepath = '/content/Sc_m6dBSlider_00_model_auc.keras'\n",
        "model_checkpoint_callback = tf.keras.callbacks.ModelCheckpoint(\n",
        "    filepath=checkpoint_filepath,\n",
        "    monitor = 'val_AUC_ROC',\n",
        "    verbose=1,\n",
        "    save_best_only=True,\n",
        "    save_weights_only=False,\n",
        "    mode='max',\n",
        "    save_freq='epoch')\n",
        "\n",
        "history = model.fit(\n",
        "    train_ds,\n",
        "    validation_data=val_ds,\n",
        "    epochs=32,\n",
        "    callbacks=[model_checkpoint_callback])"
      ],
      "metadata": {
        "colab": {
          "base_uri": "https://localhost:8080/"
        },
        "id": "On1Lo-sv208y",
        "outputId": "5317f831-2895-4a4b-af36-6f4830570566"
      },
      "execution_count": null,
      "outputs": [
        {
          "output_type": "stream",
          "name": "stdout",
          "text": [
            "Found 1424 files belonging to 2 classes.\n",
            "Using 1140 files for training.\n",
            "Found 1424 files belonging to 2 classes.\n",
            "Using 284 files for validation.\n",
            "Epoch 1/32\n",
            "\u001b[1m18/18\u001b[0m \u001b[32m━━━━━━━━━━━━━━━━━━━━\u001b[0m\u001b[37m\u001b[0m \u001b[1m0s\u001b[0m 19s/step - AUC_ROC: 0.6520 - accuracy: 0.5782 - loss: 1.8253 - precision: 0.5782 - recall: 0.5782 \n",
            "Epoch 1: val_AUC_ROC improved from -inf to 0.88130, saving model to /content/Sc_m6dBSlider_00_model_auc.keras\n",
            "\u001b[1m18/18\u001b[0m \u001b[32m━━━━━━━━━━━━━━━━━━━━\u001b[0m\u001b[37m\u001b[0m \u001b[1m400s\u001b[0m 22s/step - AUC_ROC: 0.6553 - accuracy: 0.5831 - loss: 1.7910 - precision: 0.5831 - recall: 0.5831 - val_AUC_ROC: 0.8813 - val_accuracy: 0.7465 - val_loss: 0.4700 - val_precision: 0.7465 - val_recall: 0.7465\n",
            "Epoch 2/32\n"
          ]
        }
      ]
    }
  ]
}